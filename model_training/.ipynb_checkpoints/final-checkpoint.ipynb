{
 "cells": [
  {
   "cell_type": "code",
   "execution_count": 8,
   "id": "e427c33e-4958-4bfe-8275-de759b1406bd",
   "metadata": {},
   "outputs": [],
   "source": [
    "import pandas as pd"
   ]
  },
  {
   "cell_type": "code",
   "execution_count": 9,
   "id": "27989e9d-7596-4610-9a0a-3a6aec4d6f71",
   "metadata": {},
   "outputs": [],
   "source": [
    "df = pd.read_csv('df_final.csv')"
   ]
  },
  {
   "cell_type": "code",
   "execution_count": 14,
   "id": "e4410b9a-f5a8-4882-809a-deb99b31fc38",
   "metadata": {},
   "outputs": [],
   "source": [
    "df.drop(columns=['Unnamed: 0'],inplace=True)"
   ]
  },
  {
   "cell_type": "code",
   "execution_count": 15,
   "id": "909a9ce4-2116-4a12-838e-962fb69e7354",
   "metadata": {},
   "outputs": [],
   "source": [
    "from sklearn.model_selection import train_test_split"
   ]
  },
  {
   "cell_type": "code",
   "execution_count": 24,
   "id": "92da97f4-aa1d-4ac8-88f4-c49c7c90ea65",
   "metadata": {},
   "outputs": [],
   "source": [
    "from sklearn.preprocessing import LabelEncoder\n",
    "\n",
    "x = df.drop(columns=['Personality'])\n",
    "\n",
    "le = LabelEncoder()\n",
    "y = le.fit_transform(df['Personality'])"
   ]
  },
  {
   "cell_type": "code",
   "execution_count": 25,
   "id": "719b3f47-b6f2-4678-8d8e-bc409091140b",
   "metadata": {},
   "outputs": [],
   "source": [
    "x_train , x_test , y_train , y_test = train_test_split(x,y,test_size=0.2,random_state=42)"
   ]
  },
  {
   "cell_type": "code",
   "execution_count": 34,
   "id": "9125ac65-913d-47b1-b73d-6470d9c2c305",
   "metadata": {},
   "outputs": [
    {
     "data": {
      "text/plain": [
       "array([0, 0, 0, ..., 0, 0, 0])"
      ]
     },
     "execution_count": 34,
     "metadata": {},
     "output_type": "execute_result"
    }
   ],
   "source": [
    "y_train"
   ]
  },
  {
   "cell_type": "code",
   "execution_count": 26,
   "id": "92f0ef77-ad08-422a-ba78-7239c244e907",
   "metadata": {},
   "outputs": [
    {
     "data": {
      "text/html": [
       "<div>\n",
       "<style scoped>\n",
       "    .dataframe tbody tr th:only-of-type {\n",
       "        vertical-align: middle;\n",
       "    }\n",
       "\n",
       "    .dataframe tbody tr th {\n",
       "        vertical-align: top;\n",
       "    }\n",
       "\n",
       "    .dataframe thead th {\n",
       "        text-align: right;\n",
       "    }\n",
       "</style>\n",
       "<table border=\"1\" class=\"dataframe\">\n",
       "  <thead>\n",
       "    <tr style=\"text-align: right;\">\n",
       "      <th></th>\n",
       "      <th>Time_spent_Alone</th>\n",
       "      <th>Social_event_attendance</th>\n",
       "      <th>Going_outside</th>\n",
       "      <th>Friends_circle_size</th>\n",
       "      <th>Post_frequency</th>\n",
       "      <th>Stage_fear1</th>\n",
       "      <th>Drained_after_socializing1</th>\n",
       "    </tr>\n",
       "  </thead>\n",
       "  <tbody>\n",
       "    <tr>\n",
       "      <th>1799</th>\n",
       "      <td>1.0</td>\n",
       "      <td>7.0</td>\n",
       "      <td>4.000000</td>\n",
       "      <td>10.0</td>\n",
       "      <td>5.0</td>\n",
       "      <td>0</td>\n",
       "      <td>0</td>\n",
       "    </tr>\n",
       "    <tr>\n",
       "      <th>11931</th>\n",
       "      <td>2.0</td>\n",
       "      <td>4.0</td>\n",
       "      <td>6.000000</td>\n",
       "      <td>6.0</td>\n",
       "      <td>8.0</td>\n",
       "      <td>0</td>\n",
       "      <td>0</td>\n",
       "    </tr>\n",
       "    <tr>\n",
       "      <th>14307</th>\n",
       "      <td>4.0</td>\n",
       "      <td>5.0</td>\n",
       "      <td>5.000000</td>\n",
       "      <td>7.0</td>\n",
       "      <td>6.0</td>\n",
       "      <td>0</td>\n",
       "      <td>0</td>\n",
       "    </tr>\n",
       "    <tr>\n",
       "      <th>12157</th>\n",
       "      <td>3.0</td>\n",
       "      <td>6.0</td>\n",
       "      <td>4.044319</td>\n",
       "      <td>8.0</td>\n",
       "      <td>8.0</td>\n",
       "      <td>0</td>\n",
       "      <td>0</td>\n",
       "    </tr>\n",
       "    <tr>\n",
       "      <th>18124</th>\n",
       "      <td>2.0</td>\n",
       "      <td>7.0</td>\n",
       "      <td>7.000000</td>\n",
       "      <td>15.0</td>\n",
       "      <td>4.0</td>\n",
       "      <td>0</td>\n",
       "      <td>0</td>\n",
       "    </tr>\n",
       "  </tbody>\n",
       "</table>\n",
       "</div>"
      ],
      "text/plain": [
       "       Time_spent_Alone  Social_event_attendance  Going_outside  \\\n",
       "1799                1.0                      7.0       4.000000   \n",
       "11931               2.0                      4.0       6.000000   \n",
       "14307               4.0                      5.0       5.000000   \n",
       "12157               3.0                      6.0       4.044319   \n",
       "18124               2.0                      7.0       7.000000   \n",
       "\n",
       "       Friends_circle_size  Post_frequency  Stage_fear1  \\\n",
       "1799                  10.0             5.0            0   \n",
       "11931                  6.0             8.0            0   \n",
       "14307                  7.0             6.0            0   \n",
       "12157                  8.0             8.0            0   \n",
       "18124                 15.0             4.0            0   \n",
       "\n",
       "       Drained_after_socializing1  \n",
       "1799                            0  \n",
       "11931                           0  \n",
       "14307                           0  \n",
       "12157                           0  \n",
       "18124                           0  "
      ]
     },
     "execution_count": 26,
     "metadata": {},
     "output_type": "execute_result"
    }
   ],
   "source": [
    "x_train.head()"
   ]
  },
  {
   "cell_type": "code",
   "execution_count": 27,
   "id": "59947f42-0b24-4535-add2-4fed42eeb458",
   "metadata": {},
   "outputs": [
    {
     "data": {
      "text/plain": [
       "array([0, 1], dtype=int64)"
      ]
     },
     "execution_count": 27,
     "metadata": {},
     "output_type": "execute_result"
    }
   ],
   "source": [
    "df['Drained_after_socializing1'].unique()"
   ]
  },
  {
   "cell_type": "code",
   "execution_count": 28,
   "id": "20a7a177-0fa4-4390-85c7-1c658bc60ba7",
   "metadata": {},
   "outputs": [],
   "source": [
    "from sklearn.compose import ColumnTransformer\n",
    "from sklearn.preprocessing import FunctionTransformer\n",
    "from sklearn.preprocessing import PowerTransformer\n",
    "import numpy as np"
   ]
  },
  {
   "cell_type": "code",
   "execution_count": 35,
   "id": "becc7673-55e7-4e4e-86a4-29b85f7335c1",
   "metadata": {},
   "outputs": [],
   "source": [
    "function_transformer = ['Time_spent_Alone']\n",
    "power_transformer = [col for col in x.columns if col not in function_transformer]\n",
    "\n",
    "trf = ColumnTransformer([\n",
    "   ('function_transformer', FunctionTransformer(np.log1p), function_transformer),\n",
    "   ('power_transformer', PowerTransformer(method='yeo-johnson'), power_transformer)\n",
    "],remainder='passthrough')\n"
   ]
  },
  {
   "cell_type": "code",
   "execution_count": 36,
   "id": "fceb1e6e-707d-44b1-b9ec-f0117d1770aa",
   "metadata": {},
   "outputs": [],
   "source": [
    "x_train_trf = trf.fit_transform(x_train)\n",
    "x_test_trf = trf.transform(x_test)\n"
   ]
  },
  {
   "cell_type": "code",
   "execution_count": 37,
   "id": "f2a19ed2-7725-468e-bfc3-ae678fde9d68",
   "metadata": {},
   "outputs": [
    {
     "name": "stdout",
     "output_type": "stream",
     "text": [
      "Accuracy: 0.9686909581646423\n",
      "              precision    recall  f1-score   support\n",
      "\n",
      "           0       0.98      0.98      0.98      2753\n",
      "           1       0.95      0.93      0.94       952\n",
      "\n",
      "    accuracy                           0.97      3705\n",
      "   macro avg       0.96      0.96      0.96      3705\n",
      "weighted avg       0.97      0.97      0.97      3705\n",
      "\n"
     ]
    }
   ],
   "source": [
    "from sklearn.linear_model import LogisticRegression\n",
    "from sklearn.metrics import accuracy_score, classification_report\n",
    "\n",
    "model = LogisticRegression()\n",
    "model.fit(x_train_trf, y_train)\n",
    "\n",
    "y_pred = model.predict(x_test_trf)\n",
    "\n",
    "print(\"Accuracy:\", accuracy_score(y_test, y_pred))\n",
    "print(classification_report(y_test, y_pred))\n"
   ]
  },
  {
   "cell_type": "code",
   "execution_count": 39,
   "id": "a33668a0-87bf-4889-ade7-70a011ddbf79",
   "metadata": {},
   "outputs": [
    {
     "name": "stdout",
     "output_type": "stream",
     "text": [
      "Cross-validation scores: [0.97246964 0.96275304 0.97165992 0.96761134 0.96842105 0.9757085\n",
      " 0.95789474 0.96923077 0.96518219 0.96842105 0.95951417 0.97408907\n",
      " 0.96842105 0.97651822 0.97568882]\n",
      "Mean Accuracy: 0.9689055702465239\n",
      "Standard Deviation: 0.005544015192505647\n"
     ]
    }
   ],
   "source": [
    "from sklearn.model_selection import cross_val_score\n",
    "from sklearn.linear_model import LogisticRegression\n",
    "from sklearn.pipeline import Pipeline\n",
    "\n",
    "# Step 1: Define a pipeline (transform + model)\n",
    "pipe = Pipeline([\n",
    "    ('preprocessing', trf),\n",
    "    ('model', LogisticRegression())\n",
    "])\n",
    "\n",
    "# Step 2: Perform cross-validation (e.g., 5-fold)\n",
    "scores = cross_val_score(pipe, x, y, cv=15, scoring='accuracy')\n",
    "\n",
    "# Step 3: Output results\n",
    "print(\"Cross-validation scores:\", scores)\n",
    "print(\"Mean Accuracy:\", scores.mean())\n",
    "print(\"Standard Deviation:\", scores.std())\n"
   ]
  },
  {
   "cell_type": "code",
   "execution_count": 61,
   "id": "4170de8e-acb0-40ee-9fe3-67528bfcb1c5",
   "metadata": {},
   "outputs": [],
   "source": [
    "custom_input = pd.DataFrame([{\n",
    "    'Time_spent_Alone': 7.0,\n",
    "    'Social_event_attendance': 2,\n",
    "    'Going_outside': 1,\n",
    "    'Friends_circle_size': 4,\n",
    "    'Post_frequency': 3,\n",
    "    'Stage_fear1': 1,\n",
    "    'Drained_after_socializing1': 1\n",
    "}])"
   ]
  },
  {
   "cell_type": "code",
   "execution_count": 62,
   "id": "5263c93f-c40d-4daf-8230-4157e347d3ce",
   "metadata": {},
   "outputs": [],
   "source": [
    "from sklearn.pipeline import Pipeline\n",
    "from sklearn.linear_model import LogisticRegression\n",
    "\n",
    "pipe = Pipeline([\n",
    "    ('preprocessing', trf),\n",
    "    ('model', LogisticRegression())\n",
    "])\n",
    "\n",
    "pipe.fit(x_train, y_train)\n",
    "pred = pipe.predict(custom_input)\n"
   ]
  },
  {
   "cell_type": "code",
   "execution_count": 63,
   "id": "abccdb70-d442-41ad-8fd4-749fa858e6a2",
   "metadata": {},
   "outputs": [
    {
     "name": "stdout",
     "output_type": "stream",
     "text": [
      "Predicted Personality: Introvert\n"
     ]
    }
   ],
   "source": [
    "from sklearn.preprocessing import LabelEncoder\n",
    "\n",
    "le = LabelEncoder()\n",
    "le.fit(df['Personality'])  # Original column before label encoding\n",
    "\n",
    "predicted_label = le.inverse_transform(pred)\n",
    "\n",
    "print(\"Predicted Personality:\", predicted_label[0])\n"
   ]
  },
  {
   "cell_type": "code",
   "execution_count": 64,
   "id": "ae8f911c-5bd9-4b96-8066-c035ef4c69a9",
   "metadata": {},
   "outputs": [],
   "source": [
    "## test data "
   ]
  },
  {
   "cell_type": "code",
   "execution_count": null,
   "id": "929e752a-56c9-4fb2-9f4f-249e861ae7af",
   "metadata": {},
   "outputs": [],
   "source": [
    "# 1. Load the test data\n",
    "test_df = pd.read_csv('test_data.csv')\n",
    "\n",
    "# 2. Predict on test data\n",
    "y_pred = pipe.predict(test_df)\n",
    "\n",
    "# 3. Decode predictions if LabelEncoder was used\n",
    "y_pred_labels = le.inverse_transform(y_pred)\n",
    "\n",
    "# 4. Add predictions to the test DataFrame\n",
    "test_df['Predicted_Personality'] = y_pred_labels\n",
    "\n",
    "# 5. Display or save\n",
    "print(test_df)\n",
    "# test_df.to_csv('test_data_with_predictions.csv', index=False)\n"
   ]
  }
 ],
 "metadata": {
  "kernelspec": {
   "display_name": "Python 3 (ipykernel)",
   "language": "python",
   "name": "python3"
  },
  "language_info": {
   "codemirror_mode": {
    "name": "ipython",
    "version": 3
   },
   "file_extension": ".py",
   "mimetype": "text/x-python",
   "name": "python",
   "nbconvert_exporter": "python",
   "pygments_lexer": "ipython3",
   "version": "3.10.0"
  }
 },
 "nbformat": 4,
 "nbformat_minor": 5
}
